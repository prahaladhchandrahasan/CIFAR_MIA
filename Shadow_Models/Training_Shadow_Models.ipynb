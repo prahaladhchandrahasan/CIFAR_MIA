{
  "nbformat": 4,
  "nbformat_minor": 0,
  "metadata": {
    "colab": {
      "provenance": [],
      "gpuType": "T4"
    },
    "kernelspec": {
      "name": "python3",
      "display_name": "Python 3"
    },
    "language_info": {
      "name": "python"
    },
    "accelerator": "GPU"
  },
  "cells": [
    {
      "cell_type": "code",
      "source": [
        "device = \"cuda\""
      ],
      "metadata": {
        "id": "daL4DdHqaMeu"
      },
      "execution_count": 1,
      "outputs": []
    },
    {
      "cell_type": "code",
      "source": [
        "import torch\n",
        "import torch.nn as nn\n",
        "import torch.optim as optim\n",
        "import torchvision\n",
        "import torchvision.transforms as transforms\n",
        "import random"
      ],
      "metadata": {
        "id": "TZAnEpTtX6F8"
      },
      "execution_count": 2,
      "outputs": []
    },
    {
      "cell_type": "code",
      "source": [
        "from google.colab import drive\n",
        "drive.mount('/content/drive')"
      ],
      "metadata": {
        "colab": {
          "base_uri": "https://localhost:8080/"
        },
        "id": "CsQe-sydpHgp",
        "outputId": "a7be2622-2c1b-4c83-903d-54c5b08f7186"
      },
      "execution_count": 3,
      "outputs": [
        {
          "output_type": "stream",
          "name": "stdout",
          "text": [
            "Drive already mounted at /content/drive; to attempt to forcibly remount, call drive.mount(\"/content/drive\", force_remount=True).\n"
          ]
        }
      ]
    },
    {
      "cell_type": "code",
      "source": [
        "zip_path= '/content/drive/My Drive/ISPP_Folder/CIFAKE_Shadow_Datasets.zip'"
      ],
      "metadata": {
        "id": "0_D0_OY_pe-8"
      },
      "execution_count": 4,
      "outputs": []
    },
    {
      "cell_type": "code",
      "source": [
        "import zipfile\n",
        "import os\n",
        "\n",
        "# Define the destination directory for unzipped files\n",
        "extract_to = '/content/unzipped_folder/'\n",
        "\n",
        "# Ensure the destination directory exists\n",
        "os.makedirs(extract_to, exist_ok=True)\n",
        "\n",
        "# Open and extract the ZIP file\n",
        "with zipfile.ZipFile(zip_path, 'r') as zip_ref:\n",
        "    zip_ref.extractall(extract_to)\n",
        "\n",
        "print(\"Files unzipped successfully.\")"
      ],
      "metadata": {
        "colab": {
          "base_uri": "https://localhost:8080/"
        },
        "id": "c7ff2jyNqCs0",
        "outputId": "64399685-fab2-45a1-94d8-ffe79a5e9670"
      },
      "execution_count": 5,
      "outputs": [
        {
          "output_type": "stream",
          "name": "stdout",
          "text": [
            "Files unzipped successfully.\n"
          ]
        }
      ]
    },
    {
      "cell_type": "code",
      "source": [
        "from torch.utils.data import DataLoader, Subset, random_split\n",
        "from torchvision import datasets"
      ],
      "metadata": {
        "id": "gJSbE5MKlWfv"
      },
      "execution_count": 6,
      "outputs": []
    },
    {
      "cell_type": "code",
      "source": [
        "transform = transforms.Compose([\n",
        "    transforms.ToTensor(),  # Convert PIL image to PyTorch tensor\n",
        "])\n"
      ],
      "metadata": {
        "id": "VN11ywRZnApn"
      },
      "execution_count": 7,
      "outputs": []
    },
    {
      "cell_type": "code",
      "source": [
        "train_dataset = datasets.ImageFolder(root=\"/content/unzipped_folder/CIFAKE_Shadow_Datasets/New_Train_Shadow/Dataset5\", transform=transform)"
      ],
      "metadata": {
        "id": "dv2_zkDMk_5J"
      },
      "execution_count": 8,
      "outputs": []
    },
    {
      "cell_type": "code",
      "source": [
        "assert len(train_dataset) == 10000"
      ],
      "metadata": {
        "id": "p2Uzv4Bblxw1"
      },
      "execution_count": 9,
      "outputs": []
    },
    {
      "cell_type": "code",
      "source": [
        "train_loader = DataLoader(train_dataset, batch_size=256, shuffle=True)"
      ],
      "metadata": {
        "id": "eVGlnPtsltmy"
      },
      "execution_count": 10,
      "outputs": []
    },
    {
      "cell_type": "code",
      "source": [
        "test_dataset = datasets.ImageFolder(root=\"/content/unzipped_folder/CIFAKE_Shadow_Datasets/New_Test_Shadow/Dataset5\",transform=transform)"
      ],
      "metadata": {
        "id": "dwGOABn9l3FA"
      },
      "execution_count": 11,
      "outputs": []
    },
    {
      "cell_type": "code",
      "source": [
        "assert len(test_dataset) == 2000"
      ],
      "metadata": {
        "id": "ZueaN-WDl_Ab"
      },
      "execution_count": 12,
      "outputs": []
    },
    {
      "cell_type": "code",
      "source": [
        "test_loader = DataLoader(test_dataset, batch_size=256, shuffle=True)"
      ],
      "metadata": {
        "id": "QSJvzcD6mBkH"
      },
      "execution_count": 13,
      "outputs": []
    },
    {
      "cell_type": "code",
      "source": [
        "class CNN(nn.Module):\n",
        "    def __init__(self):\n",
        "        super(CNN, self).__init__()\n",
        "        self.conv1 = nn.Conv2d(3, 32, kernel_size=3, stride=1, padding=1)\n",
        "        self.conv2 = nn.Conv2d(32, 64, kernel_size=3, stride=1, padding=1)\n",
        "        self.pool = nn.MaxPool2d(kernel_size=2, stride=2, padding=0)\n",
        "        self.fc1 = nn.Linear(64 * 8 * 8, 128)\n",
        "        self.fc2 = nn.Linear(128, 10)\n",
        "        self.tanh = nn.Tanh()\n",
        "        self.softmax = nn.Softmax(dim=1)\n",
        "\n",
        "    def forward(self, x):\n",
        "        x = self.pool(self.tanh(self.conv1(x)))\n",
        "        x = self.pool(self.tanh(self.conv2(x)))\n",
        "        x = x.view(-1, 64 * 8 * 8)  # Flatten the tensor for the fully connected layer\n",
        "        x = self.tanh(self.fc1(x))\n",
        "        x = self.fc2(x)\n",
        "        return x"
      ],
      "metadata": {
        "id": "ED3g5UzgmKke"
      },
      "execution_count": 14,
      "outputs": []
    },
    {
      "cell_type": "code",
      "source": [
        "shadow_model = CNN()\n",
        "criterion = nn.CrossEntropyLoss()\n",
        "shadow_optimizer = optim.Adam(shadow_model.parameters(), lr=0.001)"
      ],
      "metadata": {
        "id": "Rs52u_2hmNk9"
      },
      "execution_count": 15,
      "outputs": []
    },
    {
      "cell_type": "code",
      "source": [
        "device = torch.device(\"cuda\" if torch.cuda.is_available() else \"cpu\")\n",
        "print(device)\n",
        "\n",
        "shadow_model = shadow_model.to(device)"
      ],
      "metadata": {
        "colab": {
          "base_uri": "https://localhost:8080/"
        },
        "id": "vZK8f_gamPUp",
        "outputId": "9c9bf3c8-63b6-4659-cd7c-2d8b62292c62"
      },
      "execution_count": 16,
      "outputs": [
        {
          "output_type": "stream",
          "name": "stdout",
          "text": [
            "cuda\n"
          ]
        }
      ]
    },
    {
      "cell_type": "code",
      "source": [
        "import wandb\n",
        "\n",
        "# Initialize wandb\n",
        "wandb.init(\n",
        "    project=\"Shadow_Model_Training\",  # Replace with your project name\n",
        "    config={\n",
        "        \"epochs\": 20,\n",
        "        \"batch_size\": train_loader.batch_size,\n",
        "        \"learning_rate\": shadow_optimizer.param_groups[0]['lr'],\n",
        "        \"target_epsilon\": 0,\n",
        "        \"Run\": 2 # Assuming all param groups have the same LR\n",
        "    }\n",
        ")"
      ],
      "metadata": {
        "colab": {
          "base_uri": "https://localhost:8080/",
          "height": 174
        },
        "id": "tZWWEdnuoFmk",
        "outputId": "abc97272-1e4f-45eb-8c2c-43f6d2070f82"
      },
      "execution_count": 17,
      "outputs": [
        {
          "output_type": "stream",
          "name": "stderr",
          "text": [
            "\u001b[34m\u001b[1mwandb\u001b[0m: Using wandb-core as the SDK backend.  Please refer to https://wandb.me/wandb-core for more information.\n",
            "\u001b[34m\u001b[1mwandb\u001b[0m: Currently logged in as: \u001b[33mprahalac\u001b[0m (\u001b[33mprahalac-carnegie-mellon-university\u001b[0m). Use \u001b[1m`wandb login --relogin`\u001b[0m to force relogin\n"
          ]
        },
        {
          "output_type": "display_data",
          "data": {
            "text/plain": [
              "<IPython.core.display.HTML object>"
            ],
            "text/html": [
              "Tracking run with wandb version 0.19.1"
            ]
          },
          "metadata": {}
        },
        {
          "output_type": "display_data",
          "data": {
            "text/plain": [
              "<IPython.core.display.HTML object>"
            ],
            "text/html": [
              "Run data is saved locally in <code>/content/wandb/run-20241220_062058-l3j0opqz</code>"
            ]
          },
          "metadata": {}
        },
        {
          "output_type": "display_data",
          "data": {
            "text/plain": [
              "<IPython.core.display.HTML object>"
            ],
            "text/html": [
              "Syncing run <strong><a href='https://wandb.ai/prahalac-carnegie-mellon-university/Shadow_Model_Training/runs/l3j0opqz' target=\"_blank\">efficient-star-5</a></strong> to <a href='https://wandb.ai/prahalac-carnegie-mellon-university/Shadow_Model_Training' target=\"_blank\">Weights & Biases</a> (<a href='https://wandb.me/developer-guide' target=\"_blank\">docs</a>)<br>"
            ]
          },
          "metadata": {}
        },
        {
          "output_type": "display_data",
          "data": {
            "text/plain": [
              "<IPython.core.display.HTML object>"
            ],
            "text/html": [
              " View project at <a href='https://wandb.ai/prahalac-carnegie-mellon-university/Shadow_Model_Training' target=\"_blank\">https://wandb.ai/prahalac-carnegie-mellon-university/Shadow_Model_Training</a>"
            ]
          },
          "metadata": {}
        },
        {
          "output_type": "display_data",
          "data": {
            "text/plain": [
              "<IPython.core.display.HTML object>"
            ],
            "text/html": [
              " View run at <a href='https://wandb.ai/prahalac-carnegie-mellon-university/Shadow_Model_Training/runs/l3j0opqz' target=\"_blank\">https://wandb.ai/prahalac-carnegie-mellon-university/Shadow_Model_Training/runs/l3j0opqz</a>"
            ]
          },
          "metadata": {}
        },
        {
          "output_type": "execute_result",
          "data": {
            "text/html": [
              "<button onClick=\"this.nextSibling.style.display='block';this.style.display='none';\">Display W&B run</button><iframe src='https://wandb.ai/prahalac-carnegie-mellon-university/Shadow_Model_Training/runs/l3j0opqz?jupyter=true' style='border:none;width:100%;height:420px;display:none;'></iframe>"
            ],
            "text/plain": [
              "<wandb.sdk.wandb_run.Run at 0x7c3f403e0040>"
            ]
          },
          "metadata": {},
          "execution_count": 17
        }
      ]
    },
    {
      "cell_type": "code",
      "source": [
        "def train(model,optimizer,loader,epoch):\n",
        "    model.train()\n",
        "    running_loss = 0.0\n",
        "    correct = 0\n",
        "    total = 0\n",
        "    all_labels = []\n",
        "    all_predictions = []\n",
        "    for i, (images, labels) in enumerate(loader):\n",
        "\n",
        "        images, labels = images.to(device), labels.to(device)\n",
        "\n",
        "        optimizer.zero_grad()\n",
        "        outputs = model(images)\n",
        "        loss = criterion(outputs, labels)\n",
        "        outputs = model(images)\n",
        "        _, predicted = torch.max(outputs.data, 1)\n",
        "\n",
        "            # Append predictions and labels for metric calculation\n",
        "        all_predictions.extend(predicted.cpu().numpy())\n",
        "        all_labels.extend(labels.cpu().numpy())\n",
        "\n",
        "        total += labels.size(0)\n",
        "        correct += (predicted == labels).sum().item()\n",
        "        loss.backward()\n",
        "        optimizer.step()\n",
        "\n",
        "        running_loss += loss.item()\n",
        "\n",
        "\n",
        "    # Print the loss after each epoch\n",
        "    accuracy = 100 * correct / total\n",
        "    wandb.log({\"train_loss\": running_loss / len(loader), \"train_accuracy\": accuracy, \"Epoch\" : epoch+1})\n",
        "    print(f\"Epoch [{epoch+1}/{num_epochs}], Train_Loss: {running_loss / len(loader):.4f}, Train_Accuracy: {accuracy:.4f}\")"
      ],
      "metadata": {
        "id": "Zza9Aqo2mRDA"
      },
      "execution_count": 18,
      "outputs": []
    },
    {
      "cell_type": "code",
      "source": [
        "from sklearn.metrics import precision_score, recall_score, f1_score\n",
        "def test(model,test_loader, epoch):\n",
        "    model.eval()\n",
        "    correct = 0\n",
        "    total = 0\n",
        "    all_labels = []\n",
        "    all_predictions = []\n",
        "\n",
        "    with torch.no_grad():\n",
        "        for images, labels in test_loader:\n",
        "            images, labels = images.to(device), labels.to(device)\n",
        "            outputs = model(images)\n",
        "            _, predicted = torch.max(outputs.data, 1)\n",
        "\n",
        "            # Append predictions and labels for metric calculation\n",
        "            all_predictions.extend(predicted.cpu().numpy())\n",
        "            all_labels.extend(labels.cpu().numpy())\n",
        "\n",
        "            total += labels.size(0)\n",
        "            correct += (predicted == labels).sum().item()\n",
        "\n",
        "    # Calculate metrics\n",
        "    accuracy = 100 * correct / total\n",
        "    precision = precision_score(all_labels, all_predictions, average='macro')\n",
        "    recall = recall_score(all_labels, all_predictions, average='macro')\n",
        "    f1 = f1_score(all_labels, all_predictions, average='macro')\n",
        "\n",
        "    wandb.log({\"test_accuracy\": accuracy, \"precision\": precision, \"recall\": recall, \"f1_score\": f1, \"Epoch\" : epoch+1})\n",
        "\n",
        "    print(f\"Test Accuracy: {accuracy:.2f}%\")\n",
        "    print(f\"Precision: {precision:.4f}\")\n",
        "    print(f\"Recall: {recall:.4f}\")\n",
        "    print(f\"F1 Score: {f1:.4f}\")"
      ],
      "metadata": {
        "id": "8Y_qfhwsmUyv"
      },
      "execution_count": 19,
      "outputs": []
    },
    {
      "cell_type": "code",
      "source": [
        "def fit(model,optimizer,train_loader,test_loader):\n",
        "\n",
        "    for epoch in range(num_epochs):\n",
        "      train(model,optimizer,train_loader,epoch)\n",
        "      test(model,test_loader,epoch)"
      ],
      "metadata": {
        "id": "Hg1XHyAWmZEk"
      },
      "execution_count": 20,
      "outputs": []
    },
    {
      "cell_type": "code",
      "source": [
        "num_epochs = 20"
      ],
      "metadata": {
        "id": "hqvEbDU9mbTS"
      },
      "execution_count": 21,
      "outputs": []
    },
    {
      "cell_type": "code",
      "source": [
        "fit(shadow_model,shadow_optimizer,train_loader,test_loader)"
      ],
      "metadata": {
        "colab": {
          "base_uri": "https://localhost:8080/"
        },
        "id": "wdSom4SPmcuN",
        "outputId": "c600e630-90c8-4a67-8f61-0226bc63abfc"
      },
      "execution_count": 22,
      "outputs": [
        {
          "output_type": "stream",
          "name": "stdout",
          "text": [
            "Epoch [1/20], Train_Loss: 1.5595, Train_Accuracy: 47.3400\n",
            "Test Accuracy: 60.80%\n",
            "Precision: 0.6139\n",
            "Recall: 0.6080\n",
            "F1 Score: 0.5972\n",
            "Epoch [2/20], Train_Loss: 1.0253, Train_Accuracy: 65.0400\n",
            "Test Accuracy: 67.40%\n",
            "Precision: 0.6802\n",
            "Recall: 0.6740\n",
            "F1 Score: 0.6706\n",
            "Epoch [3/20], Train_Loss: 0.8586, Train_Accuracy: 70.4600\n",
            "Test Accuracy: 71.95%\n",
            "Precision: 0.7205\n",
            "Recall: 0.7195\n",
            "F1 Score: 0.7188\n",
            "Epoch [4/20], Train_Loss: 0.7481, Train_Accuracy: 74.4300\n",
            "Test Accuracy: 73.80%\n",
            "Precision: 0.7363\n",
            "Recall: 0.7380\n",
            "F1 Score: 0.7342\n",
            "Epoch [5/20], Train_Loss: 0.6515, Train_Accuracy: 77.7800\n",
            "Test Accuracy: 75.35%\n",
            "Precision: 0.7612\n",
            "Recall: 0.7535\n",
            "F1 Score: 0.7521\n",
            "Epoch [6/20], Train_Loss: 0.5765, Train_Accuracy: 80.2400\n",
            "Test Accuracy: 77.10%\n",
            "Precision: 0.7712\n",
            "Recall: 0.7710\n",
            "F1 Score: 0.7675\n",
            "Epoch [7/20], Train_Loss: 0.5286, Train_Accuracy: 82.3300\n",
            "Test Accuracy: 76.70%\n",
            "Precision: 0.7700\n",
            "Recall: 0.7670\n",
            "F1 Score: 0.7631\n",
            "Epoch [8/20], Train_Loss: 0.4649, Train_Accuracy: 84.8000\n",
            "Test Accuracy: 79.45%\n",
            "Precision: 0.7966\n",
            "Recall: 0.7945\n",
            "F1 Score: 0.7931\n",
            "Epoch [9/20], Train_Loss: 0.4140, Train_Accuracy: 86.5500\n",
            "Test Accuracy: 79.85%\n",
            "Precision: 0.8021\n",
            "Recall: 0.7985\n",
            "F1 Score: 0.7983\n",
            "Epoch [10/20], Train_Loss: 0.3831, Train_Accuracy: 88.1600\n",
            "Test Accuracy: 80.35%\n",
            "Precision: 0.8065\n",
            "Recall: 0.8035\n",
            "F1 Score: 0.8021\n",
            "Epoch [11/20], Train_Loss: 0.3596, Train_Accuracy: 88.5200\n",
            "Test Accuracy: 79.75%\n",
            "Precision: 0.7995\n",
            "Recall: 0.7975\n",
            "F1 Score: 0.7950\n",
            "Epoch [12/20], Train_Loss: 0.3136, Train_Accuracy: 90.9600\n",
            "Test Accuracy: 78.90%\n",
            "Precision: 0.7925\n",
            "Recall: 0.7890\n",
            "F1 Score: 0.7845\n",
            "Epoch [13/20], Train_Loss: 0.2999, Train_Accuracy: 90.9900\n",
            "Test Accuracy: 79.75%\n",
            "Precision: 0.7993\n",
            "Recall: 0.7975\n",
            "F1 Score: 0.7954\n",
            "Epoch [14/20], Train_Loss: 0.2601, Train_Accuracy: 93.0600\n",
            "Test Accuracy: 80.15%\n",
            "Precision: 0.8071\n",
            "Recall: 0.8015\n",
            "F1 Score: 0.8008\n",
            "Epoch [15/20], Train_Loss: 0.2443, Train_Accuracy: 93.3100\n",
            "Test Accuracy: 81.45%\n",
            "Precision: 0.8159\n",
            "Recall: 0.8145\n",
            "F1 Score: 0.8128\n",
            "Epoch [16/20], Train_Loss: 0.1992, Train_Accuracy: 95.1700\n",
            "Test Accuracy: 81.25%\n",
            "Precision: 0.8154\n",
            "Recall: 0.8125\n",
            "F1 Score: 0.8119\n",
            "Epoch [17/20], Train_Loss: 0.1764, Train_Accuracy: 96.0400\n",
            "Test Accuracy: 80.80%\n",
            "Precision: 0.8145\n",
            "Recall: 0.8080\n",
            "F1 Score: 0.8088\n",
            "Epoch [18/20], Train_Loss: 0.1507, Train_Accuracy: 96.8200\n",
            "Test Accuracy: 82.55%\n",
            "Precision: 0.8260\n",
            "Recall: 0.8255\n",
            "F1 Score: 0.8250\n",
            "Epoch [19/20], Train_Loss: 0.1293, Train_Accuracy: 97.7500\n",
            "Test Accuracy: 82.10%\n",
            "Precision: 0.8231\n",
            "Recall: 0.8210\n",
            "F1 Score: 0.8210\n",
            "Epoch [20/20], Train_Loss: 0.1162, Train_Accuracy: 98.0500\n",
            "Test Accuracy: 82.30%\n",
            "Precision: 0.8257\n",
            "Recall: 0.8230\n",
            "F1 Score: 0.8227\n"
          ]
        }
      ]
    },
    {
      "cell_type": "code",
      "source": [
        "torch.save(shadow_model.state_dict(), 'shadow_model_5.pt')"
      ],
      "metadata": {
        "id": "LYi17voZmr5y"
      },
      "execution_count": 25,
      "outputs": []
    },
    {
      "cell_type": "code",
      "source": [
        "test(shadow_model,train_loader, 1)"
      ],
      "metadata": {
        "colab": {
          "base_uri": "https://localhost:8080/"
        },
        "id": "cG2KMloRo0HI",
        "outputId": "8a7dd811-6d32-4333-f2cb-7481f7a2396b"
      },
      "execution_count": 26,
      "outputs": [
        {
          "output_type": "stream",
          "name": "stdout",
          "text": [
            "Test Accuracy: 98.70%\n",
            "Precision: 0.9871\n",
            "Recall: 0.9870\n",
            "F1 Score: 0.9870\n"
          ]
        }
      ]
    },
    {
      "cell_type": "code",
      "source": [],
      "metadata": {
        "id": "6FdxPC4EviEa"
      },
      "execution_count": null,
      "outputs": []
    }
  ]
}