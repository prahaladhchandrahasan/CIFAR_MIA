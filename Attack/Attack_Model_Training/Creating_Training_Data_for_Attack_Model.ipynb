{
  "nbformat": 4,
  "nbformat_minor": 0,
  "metadata": {
    "colab": {
      "provenance": []
    },
    "kernelspec": {
      "name": "python3",
      "display_name": "Python 3"
    },
    "language_info": {
      "name": "python"
    }
  },
  "cells": [
    {
      "cell_type": "code",
      "execution_count": 1,
      "metadata": {
        "colab": {
          "base_uri": "https://localhost:8080/"
        },
        "id": "6cXNy_zcylxs",
        "outputId": "ce5a6e34-02a7-4ffb-d5af-89cca5d8efe2"
      },
      "outputs": [
        {
          "output_type": "stream",
          "name": "stdout",
          "text": [
            "Mounted at /content/drive\n"
          ]
        }
      ],
      "source": [
        "from google.colab import drive\n",
        "drive.mount('/content/drive')"
      ]
    },
    {
      "cell_type": "code",
      "source": [
        "zip_path= '/content/drive/My Drive/ISPP_Folder/CIFAKE_Shadow_Datasets.zip'"
      ],
      "metadata": {
        "id": "Y0vR4krQyuBd"
      },
      "execution_count": 2,
      "outputs": []
    },
    {
      "cell_type": "code",
      "source": [
        "import zipfile\n",
        "import os\n",
        "\n",
        "# Define the destination directory for unzipped files\n",
        "extract_to = '/content/unzipped_folder/'\n",
        "\n",
        "# Ensure the destination directory exists\n",
        "os.makedirs(extract_to, exist_ok=True)\n",
        "\n",
        "# Open and extract the ZIP file\n",
        "with zipfile.ZipFile(zip_path, 'r') as zip_ref:\n",
        "    zip_ref.extractall(extract_to)\n",
        "\n",
        "print(\"Files unzipped successfully.\")"
      ],
      "metadata": {
        "colab": {
          "base_uri": "https://localhost:8080/"
        },
        "id": "PIVVXQS9y0A8",
        "outputId": "71d6e413-4ee4-4db6-92b1-9d5980ed1beb"
      },
      "execution_count": 3,
      "outputs": [
        {
          "output_type": "stream",
          "name": "stdout",
          "text": [
            "Files unzipped successfully.\n"
          ]
        }
      ]
    },
    {
      "cell_type": "code",
      "source": [
        "import torch\n",
        "import torch.nn as nn\n",
        "import torch.optim as optim\n",
        "import torchvision\n",
        "import torchvision.transforms as transforms\n",
        "import random\n",
        "from torch.utils.data import DataLoader, Subset, random_split\n",
        "from torchvision import datasets\n",
        "transform = transforms.Compose([\n",
        "    transforms.ToTensor(),  # Convert PIL image to PyTorch tensor\n",
        "])\n"
      ],
      "metadata": {
        "id": "jcz0_pTYy2Di"
      },
      "execution_count": 4,
      "outputs": []
    },
    {
      "cell_type": "code",
      "source": [
        "train_dataset1 = datasets.ImageFolder(root=\"/content/unzipped_folder/CIFAKE_Shadow_Datasets/New_Train_Shadow/Dataset1\", transform=transform)\n",
        "train_dataset2 = datasets.ImageFolder(root=\"/content/unzipped_folder/CIFAKE_Shadow_Datasets/New_Train_Shadow/Dataset2\", transform=transform)\n",
        "train_dataset3 = datasets.ImageFolder(root=\"/content/unzipped_folder/CIFAKE_Shadow_Datasets/New_Train_Shadow/Dataset3\", transform=transform)\n",
        "train_dataset4 = datasets.ImageFolder(root=\"/content/unzipped_folder/CIFAKE_Shadow_Datasets/New_Train_Shadow/Dataset4\", transform=transform)\n",
        "train_dataset5 = datasets.ImageFolder(root=\"/content/unzipped_folder/CIFAKE_Shadow_Datasets/New_Train_Shadow/Dataset5\", transform=transform)"
      ],
      "metadata": {
        "id": "nRhVo0oAzBOv"
      },
      "execution_count": 5,
      "outputs": []
    },
    {
      "cell_type": "code",
      "source": [
        "train_loader1 = DataLoader(train_dataset1, batch_size = 1, shuffle = True)\n",
        "train_loader2 = DataLoader(train_dataset2, batch_size = 1, shuffle = True)\n",
        "train_loader3 = DataLoader(train_dataset3, batch_size = 1, shuffle = True)\n",
        "train_loader4 = DataLoader(train_dataset4, batch_size = 1, shuffle = True)\n",
        "train_loader5 = DataLoader(train_dataset5, batch_size = 1, shuffle = True)"
      ],
      "metadata": {
        "id": "5UwhcJM-zKpD"
      },
      "execution_count": 6,
      "outputs": []
    },
    {
      "cell_type": "code",
      "source": [
        "test_dataset1 = datasets.ImageFolder(root=\"/content/unzipped_folder/CIFAKE_Shadow_Datasets/New_Test_Shadow/Dataset1\",transform=transform)\n",
        "test_dataset2 = datasets.ImageFolder(root=\"/content/unzipped_folder/CIFAKE_Shadow_Datasets/New_Test_Shadow/Dataset2\",transform=transform)\n",
        "test_dataset3 = datasets.ImageFolder(root=\"/content/unzipped_folder/CIFAKE_Shadow_Datasets/New_Test_Shadow/Dataset3\",transform=transform)\n",
        "test_dataset4 = datasets.ImageFolder(root=\"/content/unzipped_folder/CIFAKE_Shadow_Datasets/New_Test_Shadow/Dataset4\",transform=transform)\n",
        "test_dataset5 = datasets.ImageFolder(root=\"/content/unzipped_folder/CIFAKE_Shadow_Datasets/New_Test_Shadow/Dataset5\",transform=transform)"
      ],
      "metadata": {
        "id": "GAz4eRgzzZW9"
      },
      "execution_count": 7,
      "outputs": []
    },
    {
      "cell_type": "code",
      "source": [
        "test_loader1 = DataLoader(test_dataset1, batch_size=1, shuffle=True)\n",
        "test_loader2 = DataLoader(test_dataset2, batch_size=1 ,shuffle=True)\n",
        "test_loader3 = DataLoader(test_dataset3, batch_size=1, shuffle=True)\n",
        "test_loader4 = DataLoader(test_dataset4, batch_size=1, shuffle=True)\n",
        "test_loader5 = DataLoader(test_dataset5, batch_size=1, shuffle=True)"
      ],
      "metadata": {
        "id": "B5jzSHPLzhd7"
      },
      "execution_count": 9,
      "outputs": []
    },
    {
      "cell_type": "code",
      "source": [
        "test_loaders = [test_loader1, test_loader2, test_loader3, test_loader4, test_loader5]\n",
        "train_loaders = [train_loader1, train_loader2, train_loader3, train_loader4, train_loader5]"
      ],
      "metadata": {
        "id": "_cHqOmZc0uS3"
      },
      "execution_count": 20,
      "outputs": []
    },
    {
      "cell_type": "code",
      "source": [
        "class CNN(nn.Module):\n",
        "    def __init__(self):\n",
        "        super(CNN, self).__init__()\n",
        "        self.conv1 = nn.Conv2d(3, 32, kernel_size=3, stride=1, padding=1)\n",
        "        self.conv2 = nn.Conv2d(32, 64, kernel_size=3, stride=1, padding=1)\n",
        "        self.pool = nn.MaxPool2d(kernel_size=2, stride=2, padding=0)\n",
        "        self.fc1 = nn.Linear(64 * 8 * 8, 128)\n",
        "        self.fc2 = nn.Linear(128, 10)\n",
        "        self.tanh = nn.Tanh()\n",
        "        self.softmax = nn.Softmax(dim=1)\n",
        "\n",
        "    def forward(self, x):\n",
        "        x = self.pool(self.tanh(self.conv1(x)))\n",
        "        x = self.pool(self.tanh(self.conv2(x)))\n",
        "        x = x.view(-1, 64 * 8 * 8)  # Flatten the tensor for the fully connected layer\n",
        "        x = self.tanh(self.fc1(x))\n",
        "        x = self.fc2(x)\n",
        "        return x"
      ],
      "metadata": {
        "id": "ze_W4wVqztRI"
      },
      "execution_count": 10,
      "outputs": []
    },
    {
      "cell_type": "code",
      "source": [
        "shadow_model1 = CNN()\n",
        "shadow_model2 = CNN()\n",
        "shadow_model3 = CNN()\n",
        "shadow_model4 = CNN()\n",
        "shadow_model5 = CNN()"
      ],
      "metadata": {
        "id": "UHZBsKP_zymP"
      },
      "execution_count": 11,
      "outputs": []
    },
    {
      "cell_type": "code",
      "source": [
        "shadow_model1.load_state_dict(torch.load('shadow_model_1.pt', map_location=torch.device('cpu')))\n",
        "shadow_model2.load_state_dict(torch.load('shadow_model_2.pt', map_location=torch.device('cpu')))\n",
        "shadow_model3.load_state_dict(torch.load('shadow_model_3.pt', map_location=torch.device('cpu')))\n",
        "shadow_model4.load_state_dict(torch.load('shadow_model_4.pt', map_location=torch.device('cpu')))\n",
        "shadow_model5.load_state_dict(torch.load('shadow_model_5.pt', map_location=torch.device('cpu')))"
      ],
      "metadata": {
        "colab": {
          "base_uri": "https://localhost:8080/"
        },
        "id": "4poQSRbrz18p",
        "outputId": "35f75220-05c4-483a-bc43-186d326c39b9"
      },
      "execution_count": 13,
      "outputs": [
        {
          "output_type": "stream",
          "name": "stderr",
          "text": [
            "<ipython-input-13-1c8551d50487>:1: FutureWarning: You are using `torch.load` with `weights_only=False` (the current default value), which uses the default pickle module implicitly. It is possible to construct malicious pickle data which will execute arbitrary code during unpickling (See https://github.com/pytorch/pytorch/blob/main/SECURITY.md#untrusted-models for more details). In a future release, the default value for `weights_only` will be flipped to `True`. This limits the functions that could be executed during unpickling. Arbitrary objects will no longer be allowed to be loaded via this mode unless they are explicitly allowlisted by the user via `torch.serialization.add_safe_globals`. We recommend you start setting `weights_only=True` for any use case where you don't have full control of the loaded file. Please open an issue on GitHub for any issues related to this experimental feature.\n",
            "  shadow_model1.load_state_dict(torch.load('shadow_model_1.pt', map_location=torch.device('cpu')))\n",
            "<ipython-input-13-1c8551d50487>:2: FutureWarning: You are using `torch.load` with `weights_only=False` (the current default value), which uses the default pickle module implicitly. It is possible to construct malicious pickle data which will execute arbitrary code during unpickling (See https://github.com/pytorch/pytorch/blob/main/SECURITY.md#untrusted-models for more details). In a future release, the default value for `weights_only` will be flipped to `True`. This limits the functions that could be executed during unpickling. Arbitrary objects will no longer be allowed to be loaded via this mode unless they are explicitly allowlisted by the user via `torch.serialization.add_safe_globals`. We recommend you start setting `weights_only=True` for any use case where you don't have full control of the loaded file. Please open an issue on GitHub for any issues related to this experimental feature.\n",
            "  shadow_model2.load_state_dict(torch.load('shadow_model_2.pt', map_location=torch.device('cpu')))\n",
            "<ipython-input-13-1c8551d50487>:3: FutureWarning: You are using `torch.load` with `weights_only=False` (the current default value), which uses the default pickle module implicitly. It is possible to construct malicious pickle data which will execute arbitrary code during unpickling (See https://github.com/pytorch/pytorch/blob/main/SECURITY.md#untrusted-models for more details). In a future release, the default value for `weights_only` will be flipped to `True`. This limits the functions that could be executed during unpickling. Arbitrary objects will no longer be allowed to be loaded via this mode unless they are explicitly allowlisted by the user via `torch.serialization.add_safe_globals`. We recommend you start setting `weights_only=True` for any use case where you don't have full control of the loaded file. Please open an issue on GitHub for any issues related to this experimental feature.\n",
            "  shadow_model3.load_state_dict(torch.load('shadow_model_3.pt', map_location=torch.device('cpu')))\n",
            "<ipython-input-13-1c8551d50487>:4: FutureWarning: You are using `torch.load` with `weights_only=False` (the current default value), which uses the default pickle module implicitly. It is possible to construct malicious pickle data which will execute arbitrary code during unpickling (See https://github.com/pytorch/pytorch/blob/main/SECURITY.md#untrusted-models for more details). In a future release, the default value for `weights_only` will be flipped to `True`. This limits the functions that could be executed during unpickling. Arbitrary objects will no longer be allowed to be loaded via this mode unless they are explicitly allowlisted by the user via `torch.serialization.add_safe_globals`. We recommend you start setting `weights_only=True` for any use case where you don't have full control of the loaded file. Please open an issue on GitHub for any issues related to this experimental feature.\n",
            "  shadow_model4.load_state_dict(torch.load('shadow_model_4.pt', map_location=torch.device('cpu')))\n",
            "<ipython-input-13-1c8551d50487>:5: FutureWarning: You are using `torch.load` with `weights_only=False` (the current default value), which uses the default pickle module implicitly. It is possible to construct malicious pickle data which will execute arbitrary code during unpickling (See https://github.com/pytorch/pytorch/blob/main/SECURITY.md#untrusted-models for more details). In a future release, the default value for `weights_only` will be flipped to `True`. This limits the functions that could be executed during unpickling. Arbitrary objects will no longer be allowed to be loaded via this mode unless they are explicitly allowlisted by the user via `torch.serialization.add_safe_globals`. We recommend you start setting `weights_only=True` for any use case where you don't have full control of the loaded file. Please open an issue on GitHub for any issues related to this experimental feature.\n",
            "  shadow_model5.load_state_dict(torch.load('shadow_model_5.pt', map_location=torch.device('cpu')))\n"
          ]
        },
        {
          "output_type": "execute_result",
          "data": {
            "text/plain": [
              "<All keys matched successfully>"
            ]
          },
          "metadata": {},
          "execution_count": 13
        }
      ]
    },
    {
      "cell_type": "code",
      "source": [
        "shadow_models = [shadow_model1,shadow_model2, shadow_model3, shadow_model4, shadow_model5]"
      ],
      "metadata": {
        "id": "rZakvtaY0o2-"
      },
      "execution_count": 19,
      "outputs": []
    },
    {
      "cell_type": "code",
      "source": [
        "softmax = nn.Softmax(dim=1)"
      ],
      "metadata": {
        "id": "2oy-xMvY0Dtg"
      },
      "execution_count": 14,
      "outputs": []
    },
    {
      "cell_type": "code",
      "source": [
        "device = torch.device(\"cuda\" if torch.cuda.is_available() else \"cpu\")\n",
        "print(device)\n"
      ],
      "metadata": {
        "colab": {
          "base_uri": "https://localhost:8080/"
        },
        "id": "14vurgas0WWi",
        "outputId": "3a2e899d-43b4-484b-bb9b-8eff9b2a1795"
      },
      "execution_count": 17,
      "outputs": [
        {
          "output_type": "stream",
          "name": "stdout",
          "text": [
            "cpu\n"
          ]
        }
      ]
    },
    {
      "cell_type": "code",
      "source": [
        "def generate_attack_data(model, data_loader, member_label):\n",
        "    model.eval()\n",
        "    attack_data = []\n",
        "    attack_labels = []\n",
        "    with torch.no_grad():\n",
        "        for images, labels in data_loader:\n",
        "            images, labels = images.to(device), labels.to(device)\n",
        "            probs = softmax(model(images))\n",
        "            attack_data.append(probs.cpu().numpy())\n",
        "            attack_labels.append(member_label)\n",
        "    return attack_data, attack_labels"
      ],
      "metadata": {
        "id": "HkzSkOZQ0MtJ"
      },
      "execution_count": 18,
      "outputs": []
    },
    {
      "cell_type": "code",
      "source": [
        "attack_data = []\n",
        "attack_labels = []\n",
        "for i in range(5):\n",
        "  member_data, member_labels = generate_attack_data(shadow_models[i], train_loaders[i], member_label=1)\n",
        "  non_member_data, non_member_labels = generate_attack_data(shadow_models[i], test_loaders[i], member_label=0)\n",
        "  attack_data.extend(member_data+non_member_data)\n",
        "  attack_labels.extend(member_labels+non_member_labels)"
      ],
      "metadata": {
        "id": "2imS2aCi0VJI"
      },
      "execution_count": 22,
      "outputs": []
    },
    {
      "cell_type": "code",
      "source": [
        "import numpy as np"
      ],
      "metadata": {
        "id": "T6jzpEUD1X-h"
      },
      "execution_count": 23,
      "outputs": []
    },
    {
      "cell_type": "code",
      "source": [
        "attack_data = np.array(attack_data).reshape(len(attack_data), -1)\n",
        "attack_labels = np.array(attack_labels)"
      ],
      "metadata": {
        "id": "s5c1U3xQ0_RA"
      },
      "execution_count": 24,
      "outputs": []
    },
    {
      "cell_type": "code",
      "source": [
        "np.savez('attack_model_train_data.npz', X=attack_data, Y=attack_labels)"
      ],
      "metadata": {
        "id": "Fr9v8QB01Rcz"
      },
      "execution_count": 25,
      "outputs": []
    },
    {
      "cell_type": "code",
      "source": [
        "print(attack_data.shape)\n",
        "print(attack_labels.shape)"
      ],
      "metadata": {
        "colab": {
          "base_uri": "https://localhost:8080/"
        },
        "id": "4fmJQ04I12Q5",
        "outputId": "5827b6ba-fe5a-4910-a6aa-93f2b6692a78"
      },
      "execution_count": 26,
      "outputs": [
        {
          "output_type": "stream",
          "name": "stdout",
          "text": [
            "(60000, 10)\n",
            "(60000,)\n"
          ]
        }
      ]
    },
    {
      "cell_type": "code",
      "source": [],
      "metadata": {
        "id": "S_KgjMg119_r"
      },
      "execution_count": null,
      "outputs": []
    }
  ]
}