{
  "cells": [
    {
      "cell_type": "code",
      "execution_count": 1,
      "metadata": {
        "id": "RtVtVuhpQ9bD"
      },
      "outputs": [],
      "source": [
        "import torch\n",
        "import torch.nn as nn\n",
        "import torch.optim as optim\n",
        "import torchvision\n",
        "import torchvision.transforms as transforms\n",
        "import random"
      ]
    },
    {
      "cell_type": "code",
      "execution_count": 2,
      "metadata": {
        "colab": {
          "base_uri": "https://localhost:8080/"
        },
        "id": "o4_2Vl3JRkMl",
        "outputId": "5d38a902-ecde-47e7-f899-9e64842293ea"
      },
      "outputs": [
        {
          "output_type": "stream",
          "name": "stdout",
          "text": [
            "Downloading https://www.cs.toronto.edu/~kriz/cifar-10-python.tar.gz to ./data/cifar-10-python.tar.gz\n"
          ]
        },
        {
          "output_type": "stream",
          "name": "stderr",
          "text": [
            "100%|██████████| 170M/170M [00:03<00:00, 43.4MB/s]\n"
          ]
        },
        {
          "output_type": "stream",
          "name": "stdout",
          "text": [
            "Extracting ./data/cifar-10-python.tar.gz to ./data\n"
          ]
        }
      ],
      "source": [
        "import random\n",
        "import torch\n",
        "import torchvision.transforms as transforms\n",
        "from torch.utils.data import DataLoader, Subset, random_split\n",
        "from torchvision.datasets import CIFAR10\n",
        "\n",
        "transform = transforms.Compose([\n",
        "        transforms.ToTensor(),\n",
        "         transforms.Normalize((0.4914, 0.4822, 0.4465), (0.2023, 0.1994, 0.2010)),\n",
        "   ])\n",
        "train_dataset = CIFAR10(root='./data', train=True, transform=transform, download=True)"
      ]
    },
    {
      "cell_type": "code",
      "execution_count": 3,
      "metadata": {
        "id": "6pHV9wkv4Dpt"
      },
      "outputs": [],
      "source": [
        "train_loader = DataLoader(train_dataset, batch_size=256, shuffle=True)"
      ]
    },
    {
      "cell_type": "code",
      "execution_count": 4,
      "metadata": {
        "id": "0B-0aEa8RWOy"
      },
      "outputs": [],
      "source": [
        "class CNN(nn.Module):\n",
        "    def __init__(self):\n",
        "        super(CNN, self).__init__()\n",
        "        self.conv1 = nn.Conv2d(3, 32, kernel_size=3, stride=1, padding=1)\n",
        "        self.conv2 = nn.Conv2d(32, 64, kernel_size=3, stride=1, padding=1)\n",
        "        self.pool = nn.MaxPool2d(kernel_size=2, stride=2, padding=0)\n",
        "        self.fc1 = nn.Linear(64 * 8 * 8, 128)\n",
        "        self.fc2 = nn.Linear(128, 10)\n",
        "        self.tanh = nn.Tanh()\n",
        "        self.softmax = nn.Softmax(dim=1)\n",
        "\n",
        "    def forward(self, x):\n",
        "        x = self.pool(self.tanh(self.conv1(x)))\n",
        "        x = self.pool(self.tanh(self.conv2(x)))\n",
        "        x = x.view(-1, 64 * 8 * 8)  # Flatten the tensor for the fully connected layer\n",
        "        x = self.tanh(self.fc1(x))\n",
        "        x = self.fc2(x)\n",
        "        return x"
      ]
    },
    {
      "cell_type": "code",
      "execution_count": 5,
      "metadata": {
        "id": "44twmr4-RZWN"
      },
      "outputs": [],
      "source": [
        "target_model = CNN()\n",
        "criterion = nn.CrossEntropyLoss()\n",
        "target_optimizer = optim.Adam(target_model.parameters(), lr=0.001)"
      ]
    },
    {
      "cell_type": "code",
      "execution_count": 6,
      "metadata": {
        "id": "7EKx2TQP3QTQ",
        "colab": {
          "base_uri": "https://localhost:8080/"
        },
        "outputId": "4e7901c4-971e-469f-b46a-c01d26d5e398"
      },
      "outputs": [
        {
          "output_type": "stream",
          "name": "stdout",
          "text": [
            "cpu\n"
          ]
        }
      ],
      "source": [
        "device = torch.device(\"cuda\" if torch.cuda.is_available() else \"cpu\")\n",
        "print(device)\n",
        "\n",
        "target_model = target_model.to(device)"
      ]
    },
    {
      "cell_type": "code",
      "execution_count": null,
      "metadata": {
        "id": "w3ZFHGrbC82-"
      },
      "outputs": [],
      "source": [
        "import wandb\n",
        "\n",
        "# Initialize wandb\n",
        "wandb.init(\n",
        "    project=\"CIFAR_10_TARGET_INF\",  # Replace with your project name\n",
        "    config={\n",
        "        \"epochs\": 20,\n",
        "        \"batch_size\": train_loader.batch_size,\n",
        "        \"learning_rate\": target_optimizer.param_groups[0]['lr'],\n",
        "        \"target_epsilon\": 0,\n",
        "        \"Run\": 2 # Assuming all param groups have the same LR\n",
        "    }\n",
        ")"
      ]
    },
    {
      "cell_type": "code",
      "execution_count": 7,
      "metadata": {
        "colab": {
          "base_uri": "https://localhost:8080/"
        },
        "id": "98DEDenX35ti",
        "outputId": "0d3d84cd-8565-4959-873d-bd21c273d65a"
      },
      "outputs": [
        {
          "output_type": "stream",
          "name": "stdout",
          "text": [
            "Files already downloaded and verified\n"
          ]
        }
      ],
      "source": [
        "from torchvision.datasets import CIFAR10\n",
        "from torch.utils.data import DataLoader, Subset, random_split\n",
        "from torchvision import datasets\n",
        "transform = transforms.Compose([\n",
        "        transforms.ToTensor(),\n",
        "        transforms.Normalize((0.4914, 0.4822, 0.4465), (0.2023, 0.1994, 0.2010)),\n",
        "    ])\n",
        "\n",
        "test_dataset = CIFAR10(root='./data', train=False, transform=transform, download=True)\n",
        "\n",
        "\n",
        "test_loader = torch.utils.data.DataLoader(test_dataset, batch_size=64, shuffle=False)"
      ]
    },
    {
      "cell_type": "code",
      "source": [
        "import math"
      ],
      "metadata": {
        "id": "okGeMURcdKhd"
      },
      "execution_count": null,
      "outputs": []
    },
    {
      "cell_type": "code",
      "execution_count": 8,
      "metadata": {
        "id": "gjEjLPLP4l1_"
      },
      "outputs": [],
      "source": [
        "def train(model,optimizer,loader,epoch):\n",
        "    model.train()\n",
        "    running_loss = 0.0\n",
        "    correct = 0\n",
        "    total = 0\n",
        "    all_labels = []\n",
        "    all_predictions = []\n",
        "    for i, (images, labels) in enumerate(loader):\n",
        "\n",
        "        images, labels = images.to(device), labels.to(device)\n",
        "\n",
        "        optimizer.zero_grad()\n",
        "        outputs = model(images)\n",
        "        loss = criterion(outputs, labels)\n",
        "        outputs = model(images)\n",
        "        _, predicted = torch.max(outputs.data, 1)\n",
        "\n",
        "            # Append predictions and labels for metric calculation\n",
        "        all_predictions.extend(predicted.cpu().numpy())\n",
        "        all_labels.extend(labels.cpu().numpy())\n",
        "\n",
        "        total += labels.size(0)\n",
        "        correct += (predicted == labels).sum().item()\n",
        "        loss.backward()\n",
        "        optimizer.step()\n",
        "\n",
        "        running_loss += loss.item()\n",
        "\n",
        "\n",
        "    # Print the loss after each epoch\n",
        "    accuracy = 100 * correct / total\n",
        "    wandb.log({\"train_loss\": running_loss / len(loader), \"train_accuracy\": accuracy, \"Epoch\" : epoch+1})\n",
        "    print(f\"Epoch [{epoch+1}/{num_epochs}], Train_Loss: {running_loss / len(loader):.4f}, Train_Accuracy: {accuracy:.4f}\")"
      ]
    },
    {
      "cell_type": "code",
      "execution_count": null,
      "metadata": {
        "id": "Sr7qQFLq4q7h"
      },
      "outputs": [],
      "source": [
        "from sklearn.metrics import precision_score, recall_score, f1_score\n",
        "def test(model,test_loader, epoch):\n",
        "    model.eval()\n",
        "    correct = 0\n",
        "    total = 0\n",
        "    all_labels = []\n",
        "    all_predictions = []\n",
        "\n",
        "    with torch.no_grad():\n",
        "        for images, labels in test_loader:\n",
        "            images, labels = images.to(device), labels.to(device)\n",
        "            outputs = model(images)\n",
        "            _, predicted = torch.max(outputs.data, 1)\n",
        "\n",
        "            # Append predictions and labels for metric calculation\n",
        "            all_predictions.extend(predicted.cpu().numpy())\n",
        "            all_labels.extend(labels.cpu().numpy())\n",
        "\n",
        "            total += labels.size(0)\n",
        "            correct += (predicted == labels).sum().item()\n",
        "\n",
        "    # Calculate metrics\n",
        "    accuracy = 100 * correct / total\n",
        "    precision = precision_score(all_labels, all_predictions, average='macro')\n",
        "    recall = recall_score(all_labels, all_predictions, average='macro')\n",
        "    f1 = f1_score(all_labels, all_predictions, average='macro')\n",
        "\n",
        "    #wandb.log({\"test_accuracy\": accuracy, \"precision\": precision, \"recall\": recall, \"f1_score\": f1, \"Epoch\" : epoch+1})\n",
        "\n",
        "    print(f\"Test Accuracy: {accuracy:.2f}%\")\n",
        "    print(f\"Precision: {precision:.4f}\")\n",
        "    print(f\"Recall: {recall:.4f}\")\n",
        "    print(f\"F1 Score: {f1:.4f}\")\n"
      ]
    },
    {
      "cell_type": "code",
      "execution_count": null,
      "metadata": {
        "id": "XZlU_K3A65gg"
      },
      "outputs": [],
      "source": [
        "def fit(model,optimizer,train_loader,test_loader):\n",
        "\n",
        "    for epoch in range(num_epochs):\n",
        "      train(model,optimizer,train_loader,epoch)\n",
        "      test(model,test_loader,epoch)"
      ]
    },
    {
      "cell_type": "code",
      "source": [
        "num_epochs = 20"
      ],
      "metadata": {
        "id": "jU7mJFQddaF3"
      },
      "execution_count": null,
      "outputs": []
    },
    {
      "cell_type": "code",
      "execution_count": null,
      "metadata": {
        "id": "QqO5C8VK7k-L"
      },
      "outputs": [],
      "source": [
        "fit(target_model,target_optimizer,train_loader,test_loader)"
      ]
    },
    {
      "cell_type": "code",
      "execution_count": null,
      "metadata": {
        "id": "fHWn_WQAk4iN"
      },
      "outputs": [],
      "source": [
        "torch.save(target_model.state_dict(), 'target_model_eps_inf_run2.pt')"
      ]
    },
    {
      "cell_type": "code",
      "source": [
        "test(target_model,train_loader, 1)"
      ],
      "metadata": {
        "id": "jHV1rQnIjiug"
      },
      "execution_count": null,
      "outputs": []
    },
    {
      "cell_type": "code",
      "source": [
        "target_model.load_state_dict(torch.load('target_model_eps_inf.pt', map_location=torch.device('cpu')))"
      ],
      "metadata": {
        "colab": {
          "base_uri": "https://localhost:8080/"
        },
        "id": "RxdlAqPZspcT",
        "outputId": "0070496c-cf50-4e66-9e64-603e6d0e6dea"
      },
      "execution_count": 10,
      "outputs": [
        {
          "output_type": "stream",
          "name": "stderr",
          "text": [
            "<ipython-input-10-0672307f7cfd>:1: FutureWarning: You are using `torch.load` with `weights_only=False` (the current default value), which uses the default pickle module implicitly. It is possible to construct malicious pickle data which will execute arbitrary code during unpickling (See https://github.com/pytorch/pytorch/blob/main/SECURITY.md#untrusted-models for more details). In a future release, the default value for `weights_only` will be flipped to `True`. This limits the functions that could be executed during unpickling. Arbitrary objects will no longer be allowed to be loaded via this mode unless they are explicitly allowlisted by the user via `torch.serialization.add_safe_globals`. We recommend you start setting `weights_only=True` for any use case where you don't have full control of the loaded file. Please open an issue on GitHub for any issues related to this experimental feature.\n",
            "  target_model.load_state_dict(torch.load('target_model_eps_inf.pt', map_location=torch.device('cpu')))\n"
          ]
        },
        {
          "output_type": "execute_result",
          "data": {
            "text/plain": [
              "<All keys matched successfully>"
            ]
          },
          "metadata": {},
          "execution_count": 10
        }
      ]
    },
    {
      "cell_type": "code",
      "source": [
        "softmax = nn.Softmax(dim=1)"
      ],
      "metadata": {
        "id": "LUFElBx8t1JQ"
      },
      "execution_count": 19,
      "outputs": []
    },
    {
      "cell_type": "code",
      "source": [
        "def generate_attack_data(model, data_loader, member_label):\n",
        "    model.eval()\n",
        "    attack_data = []\n",
        "    attack_labels = []\n",
        "    with torch.no_grad():\n",
        "        for images, labels in data_loader:\n",
        "            images, labels = images.to(device), labels.to(device)\n",
        "            probs = softmax(model(images))\n",
        "            attack_data.append(probs.cpu().numpy())\n",
        "            attack_labels.append(member_label)\n",
        "    return attack_data, attack_labels"
      ],
      "metadata": {
        "id": "wbpvbeDDsvJi"
      },
      "execution_count": 20,
      "outputs": []
    },
    {
      "cell_type": "code",
      "source": [
        "train_loader_resized = DataLoader(dataset=train_dataset, batch_size=1, shuffle=True)\n",
        "test_loader_resized = DataLoader(dataset=test_dataset, batch_size=1, shuffle=True)"
      ],
      "metadata": {
        "id": "GaRH0GsitKdv"
      },
      "execution_count": 21,
      "outputs": []
    },
    {
      "cell_type": "code",
      "source": [
        "attack_data = []\n",
        "attack_labels = []\n",
        "member_data, member_labels = generate_attack_data(target_model, train_loader_resized, member_label=1)\n",
        "non_member_data, non_member_labels = generate_attack_data(target_model, test_loader_resized, member_label=0)\n",
        "attack_data.extend(member_data+non_member_data)\n",
        "attack_labels.extend(member_labels+non_member_labels)"
      ],
      "metadata": {
        "id": "53DF_SpItAws"
      },
      "execution_count": 22,
      "outputs": []
    },
    {
      "cell_type": "code",
      "source": [
        "print(sum(attack_data[3]))"
      ],
      "metadata": {
        "colab": {
          "base_uri": "https://localhost:8080/"
        },
        "id": "sekDW3LTtkgC",
        "outputId": "88a8b0fd-fccf-4866-df91-8c896ad4d01b"
      },
      "execution_count": 33,
      "outputs": [
        {
          "output_type": "stream",
          "name": "stdout",
          "text": [
            "0.999999905639454\n"
          ]
        }
      ]
    },
    {
      "cell_type": "code",
      "source": [
        "import numpy as np\n",
        "attack_data = np.array(attack_data).reshape(len(attack_data), -1)\n",
        "y_test = np.array(attack_labels)\n",
        "np.save(\"attack_data.npy\",attack_data)\n",
        "np.save(\"membership_labels.npy\",y_test)"
      ],
      "metadata": {
        "id": "GBliUx3kuufv"
      },
      "execution_count": 26,
      "outputs": []
    },
    {
      "cell_type": "code",
      "source": [],
      "metadata": {
        "id": "DHPLcMNvvKZy"
      },
      "execution_count": null,
      "outputs": []
    }
  ],
  "metadata": {
    "colab": {
      "provenance": []
    },
    "kernelspec": {
      "display_name": "Python 3",
      "name": "python3"
    },
    "language_info": {
      "name": "python"
    }
  },
  "nbformat": 4,
  "nbformat_minor": 0
}