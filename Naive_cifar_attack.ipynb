{
  "nbformat": 4,
  "nbformat_minor": 0,
  "metadata": {
    "colab": {
      "provenance": []
    },
    "kernelspec": {
      "name": "python3",
      "display_name": "Python 3"
    },
    "language_info": {
      "name": "python"
    }
  },
  "cells": [
    {
      "cell_type": "code",
      "execution_count": null,
      "metadata": {
        "id": "EZwcdjDY3oii"
      },
      "outputs": [],
      "source": [
        "device = \"cpu\""
      ]
    },
    {
      "cell_type": "code",
      "source": [
        "import torch\n",
        "import torch.nn as nn\n",
        "import torch.optim as optim\n",
        "import torchvision\n",
        "import torchvision.transforms as transforms\n",
        "from torch.utils.data import DataLoader, Subset, random_split"
      ],
      "metadata": {
        "id": "DlfdM2tH3zg4"
      },
      "execution_count": null,
      "outputs": []
    },
    {
      "cell_type": "code",
      "source": [
        "from google.colab import drive\n",
        "drive.mount('/content/drive')"
      ],
      "metadata": {
        "colab": {
          "base_uri": "https://localhost:8080/"
        },
        "id": "1F35ujDK-39L",
        "outputId": "af9ff6d4-57e9-4901-82bb-9bab884693f2"
      },
      "execution_count": null,
      "outputs": [
        {
          "output_type": "stream",
          "name": "stdout",
          "text": [
            "Mounted at /content/drive\n"
          ]
        }
      ]
    },
    {
      "cell_type": "code",
      "source": [
        "zip_path= '/content/drive/My Drive/ISPP_Folder/CIFAKE.zip'\n",
        "\n",
        "import zipfile\n",
        "import os\n",
        "\n",
        "# Define the destination directory for unzipped files\n",
        "extract_to = '/content/unzipped_folder/'\n",
        "\n",
        "# Ensure the destination directory exists\n",
        "os.makedirs(extract_to, exist_ok=True)\n",
        "\n",
        "# Open and extract the ZIP file\n",
        "with zipfile.ZipFile(zip_path, 'r') as zip_ref:\n",
        "    zip_ref.extractall(extract_to)\n",
        "\n",
        "print(\"Files unzipped successfully.\")"
      ],
      "metadata": {
        "colab": {
          "base_uri": "https://localhost:8080/"
        },
        "id": "Xwc97ILG-xT8",
        "outputId": "4213740a-ee24-4217-f65b-d2e775166752"
      },
      "execution_count": null,
      "outputs": [
        {
          "output_type": "stream",
          "name": "stdout",
          "text": [
            "Files unzipped successfully.\n"
          ]
        }
      ]
    },
    {
      "cell_type": "code",
      "source": [
        "#load train datasets\n",
        "\n",
        "shadow_dataset0 = torch.load('custom_dataset_0.pth')\n",
        "shadow_dataset1 = torch.load('custom_dataset_1.pth')\n",
        "shadow_dataset2 = torch.load('custom_dataset_2.pth')\n",
        "shadow_dataset3 = torch.load('custom_dataset_3.pth')\n",
        "shadow_dataset4 = torch.load('custom_dataset_4.pth')"
      ],
      "metadata": {
        "colab": {
          "base_uri": "https://localhost:8080/"
        },
        "id": "Mkh-BsPy34RE",
        "outputId": "cd2858e3-eafa-4029-e685-2dfa76ee019b"
      },
      "execution_count": null,
      "outputs": [
        {
          "output_type": "stream",
          "name": "stderr",
          "text": [
            "<ipython-input-22-30112dfc2448>:3: FutureWarning: You are using `torch.load` with `weights_only=False` (the current default value), which uses the default pickle module implicitly. It is possible to construct malicious pickle data which will execute arbitrary code during unpickling (See https://github.com/pytorch/pytorch/blob/main/SECURITY.md#untrusted-models for more details). In a future release, the default value for `weights_only` will be flipped to `True`. This limits the functions that could be executed during unpickling. Arbitrary objects will no longer be allowed to be loaded via this mode unless they are explicitly allowlisted by the user via `torch.serialization.add_safe_globals`. We recommend you start setting `weights_only=True` for any use case where you don't have full control of the loaded file. Please open an issue on GitHub for any issues related to this experimental feature.\n",
            "  shadow_dataset0 = torch.load('custom_dataset_0.pth')\n",
            "<ipython-input-22-30112dfc2448>:4: FutureWarning: You are using `torch.load` with `weights_only=False` (the current default value), which uses the default pickle module implicitly. It is possible to construct malicious pickle data which will execute arbitrary code during unpickling (See https://github.com/pytorch/pytorch/blob/main/SECURITY.md#untrusted-models for more details). In a future release, the default value for `weights_only` will be flipped to `True`. This limits the functions that could be executed during unpickling. Arbitrary objects will no longer be allowed to be loaded via this mode unless they are explicitly allowlisted by the user via `torch.serialization.add_safe_globals`. We recommend you start setting `weights_only=True` for any use case where you don't have full control of the loaded file. Please open an issue on GitHub for any issues related to this experimental feature.\n",
            "  shadow_dataset1 = torch.load('custom_dataset_1.pth')\n",
            "<ipython-input-22-30112dfc2448>:5: FutureWarning: You are using `torch.load` with `weights_only=False` (the current default value), which uses the default pickle module implicitly. It is possible to construct malicious pickle data which will execute arbitrary code during unpickling (See https://github.com/pytorch/pytorch/blob/main/SECURITY.md#untrusted-models for more details). In a future release, the default value for `weights_only` will be flipped to `True`. This limits the functions that could be executed during unpickling. Arbitrary objects will no longer be allowed to be loaded via this mode unless they are explicitly allowlisted by the user via `torch.serialization.add_safe_globals`. We recommend you start setting `weights_only=True` for any use case where you don't have full control of the loaded file. Please open an issue on GitHub for any issues related to this experimental feature.\n",
            "  shadow_dataset2 = torch.load('custom_dataset_2.pth')\n",
            "<ipython-input-22-30112dfc2448>:6: FutureWarning: You are using `torch.load` with `weights_only=False` (the current default value), which uses the default pickle module implicitly. It is possible to construct malicious pickle data which will execute arbitrary code during unpickling (See https://github.com/pytorch/pytorch/blob/main/SECURITY.md#untrusted-models for more details). In a future release, the default value for `weights_only` will be flipped to `True`. This limits the functions that could be executed during unpickling. Arbitrary objects will no longer be allowed to be loaded via this mode unless they are explicitly allowlisted by the user via `torch.serialization.add_safe_globals`. We recommend you start setting `weights_only=True` for any use case where you don't have full control of the loaded file. Please open an issue on GitHub for any issues related to this experimental feature.\n",
            "  shadow_dataset3 = torch.load('custom_dataset_3.pth')\n",
            "<ipython-input-22-30112dfc2448>:7: FutureWarning: You are using `torch.load` with `weights_only=False` (the current default value), which uses the default pickle module implicitly. It is possible to construct malicious pickle data which will execute arbitrary code during unpickling (See https://github.com/pytorch/pytorch/blob/main/SECURITY.md#untrusted-models for more details). In a future release, the default value for `weights_only` will be flipped to `True`. This limits the functions that could be executed during unpickling. Arbitrary objects will no longer be allowed to be loaded via this mode unless they are explicitly allowlisted by the user via `torch.serialization.add_safe_globals`. We recommend you start setting `weights_only=True` for any use case where you don't have full control of the loaded file. Please open an issue on GitHub for any issues related to this experimental feature.\n",
            "  shadow_dataset4 = torch.load('custom_dataset_4.pth')\n"
          ]
        }
      ]
    },
    {
      "cell_type": "code",
      "source": [
        "print(shadow_dataset0[1])\n",
        "print(len(shadow_dataset1))\n",
        "print(len(shadow_dataset2))\n",
        "print(len(shadow_dataset3))\n",
        "print(len(shadow_dataset4))"
      ],
      "metadata": {
        "colab": {
          "base_uri": "https://localhost:8080/"
        },
        "id": "75ToZMrF-hrL",
        "outputId": "2e078767-e789-4b55-d6eb-09b515fa8d5d"
      },
      "execution_count": null,
      "outputs": [
        {
          "output_type": "stream",
          "name": "stdout",
          "text": [
            "(tensor([[[-2.4291, -2.2934, -2.0608,  ..., -1.1303, -1.5567, -2.0026],\n",
            "         [-2.0026, -1.6924, -1.2466,  ..., -1.2466, -1.6343, -2.0220],\n",
            "         [-1.4986, -1.1497, -0.7038,  ..., -1.3435, -1.6731, -2.0414],\n",
            "         ...,\n",
            "         [ 1.0990,  0.4593, -0.3161,  ...,  0.0328, -0.3355, -0.5875],\n",
            "         [ 0.7888,  0.2848, -0.4324,  ...,  0.1104, -0.2192, -0.4518],\n",
            "         [ 0.3042, -0.0641, -0.6650,  ..., -0.2192, -0.4324, -0.6069]],\n",
            "\n",
            "        [[-2.4183, -2.2806, -2.0446,  ..., -1.0809, -1.5136, -1.9659],\n",
            "         [-1.9856, -1.6709, -1.2186,  ..., -1.1989, -1.5922, -1.9856],\n",
            "         [-1.4742, -1.1202, -0.6679,  ..., -1.2972, -1.6316, -2.0053],\n",
            "         ...,\n",
            "         [ 1.1611,  0.5121, -0.2746,  ...,  0.0991, -0.2746, -0.5302],\n",
            "         [ 0.8464,  0.3351, -0.3926,  ...,  0.1778, -0.1566, -0.3926],\n",
            "         [ 0.3548, -0.0189, -0.6286,  ..., -0.1566, -0.3729, -0.5499]],\n",
            "\n",
            "        [[-2.2214, -2.0848, -1.8507,  ..., -0.8557, -1.2849, -1.7336],\n",
            "         [-1.7922, -1.4800, -1.0313,  ..., -0.9727, -1.3629, -1.7531],\n",
            "         [-1.2849, -0.9337, -0.4850,  ..., -1.0703, -1.4020, -1.7727],\n",
            "         ...,\n",
            "         [ 1.3295,  0.6856, -0.0948,  ...,  0.3149, -0.0558, -0.3094],\n",
            "         [ 1.0173,  0.5100, -0.2118,  ...,  0.3930,  0.0613, -0.1728],\n",
            "         [ 0.5296,  0.1589, -0.4460,  ...,  0.0613, -0.1533, -0.3289]]]), 8)\n",
            "10000\n",
            "10000\n",
            "10000\n",
            "10000\n"
          ]
        }
      ]
    },
    {
      "cell_type": "code",
      "source": [
        "shadow_datasets = [shadow_dataset0,shadow_dataset1, shadow_dataset2, shadow_dataset3, shadow_dataset4]"
      ],
      "metadata": {
        "id": "4vOLbDd_5dg5"
      },
      "execution_count": null,
      "outputs": []
    },
    {
      "cell_type": "code",
      "source": [
        "test_dataset = torch.load('test_dataset.pth')\n",
        "\n",
        "\n",
        "test_loader = torch.utils.data.DataLoader(test_dataset, batch_size=1, shuffle=False)"
      ],
      "metadata": {
        "colab": {
          "base_uri": "https://localhost:8080/"
        },
        "id": "sTOmEb-T4DaF",
        "outputId": "d56697b9-eac8-4419-c70e-a796e6620510"
      },
      "execution_count": null,
      "outputs": [
        {
          "output_type": "stream",
          "name": "stderr",
          "text": [
            "<ipython-input-25-b0412d7c1c72>:1: FutureWarning: You are using `torch.load` with `weights_only=False` (the current default value), which uses the default pickle module implicitly. It is possible to construct malicious pickle data which will execute arbitrary code during unpickling (See https://github.com/pytorch/pytorch/blob/main/SECURITY.md#untrusted-models for more details). In a future release, the default value for `weights_only` will be flipped to `True`. This limits the functions that could be executed during unpickling. Arbitrary objects will no longer be allowed to be loaded via this mode unless they are explicitly allowlisted by the user via `torch.serialization.add_safe_globals`. We recommend you start setting `weights_only=True` for any use case where you don't have full control of the loaded file. Please open an issue on GitHub for any issues related to this experimental feature.\n",
            "  test_dataset = torch.load('test_dataset.pth')\n"
          ]
        }
      ]
    },
    {
      "cell_type": "code",
      "source": [
        "def generate_attack_data(model, data_loader, member_label):\n",
        "    model.eval()\n",
        "    attack_data = []\n",
        "    attack_labels = []\n",
        "    with torch.no_grad():\n",
        "        for images, labels in data_loader:\n",
        "            images, labels = images.to(device), labels.to(device)\n",
        "            probs = model(images)\n",
        "            attack_data.append(probs.cpu().numpy())\n",
        "            attack_labels.append(member_label)\n",
        "    return attack_data, attack_labels"
      ],
      "metadata": {
        "id": "gRGvbtw-4I67"
      },
      "execution_count": null,
      "outputs": []
    },
    {
      "cell_type": "code",
      "source": [
        "total_size = len(test_loader.dataset)\n",
        "split_size = len(test_loader.dataset) // 5\n",
        "print(split_size)\n",
        "split_sizes = [split_size] * 5\n",
        "\n",
        "# Adjust the last split to account for any remainder\n",
        "if sum(split_sizes) < total_size:\n",
        "    split_sizes[-1] += total_size - sum(split_sizes)\n",
        "\n",
        "\n",
        "# Split the dataset into 4 parts\n",
        "subset1, subset2, subset3, subset4, subset5 = random_split(test_dataset, split_sizes)\n",
        "\n",
        "# Create DataLoaders for each subset\n",
        "batch_size = 32  # Define batch size for each DataLoader\n",
        "dataloader1 = DataLoader(subset1, batch_size=1, shuffle=True)\n",
        "dataloader2 = DataLoader(subset2, batch_size=1, shuffle=True)\n",
        "dataloader3 = DataLoader(subset3, batch_size=1, shuffle=True)\n",
        "dataloader4 = DataLoader(subset4, batch_size=1, shuffle=True)\n",
        "dataloader5 = DataLoader(subset5, batch_size=1, shuffle=True)\n",
        "\n",
        "# Now you have 4 DataLoaders with approximately equal data split\n",
        "test_data_loaders = [dataloader1, dataloader2, dataloader3, dataloader4,dataloader5]"
      ],
      "metadata": {
        "colab": {
          "base_uri": "https://localhost:8080/"
        },
        "id": "lrwrtU8W4Oft",
        "outputId": "80e072bd-4bf4-4583-84d8-6fbb96703afa"
      },
      "execution_count": null,
      "outputs": [
        {
          "output_type": "stream",
          "name": "stdout",
          "text": [
            "2000\n"
          ]
        }
      ]
    },
    {
      "cell_type": "code",
      "source": [
        "#model architecture\n",
        "\n",
        "class CNN(nn.Module):\n",
        "    def __init__(self):\n",
        "        super(CNN, self).__init__()\n",
        "        self.conv1 = nn.Conv2d(3, 32, kernel_size=3, stride=1, padding=1)\n",
        "        self.conv2 = nn.Conv2d(32, 64, kernel_size=3, stride=1, padding=1)\n",
        "        self.pool = nn.MaxPool2d(kernel_size=2, stride=2, padding=0)\n",
        "        self.fc1 = nn.Linear(64 * 8 * 8, 128)\n",
        "        self.fc2 = nn.Linear(128, 10)\n",
        "        self.tanh = nn.Tanh()\n",
        "        self.softmax = nn.Softmax(dim=1)\n",
        "\n",
        "    def forward(self, x):\n",
        "        x = self.pool(self.tanh(self.conv1(x)))\n",
        "        x = self.pool(self.tanh(self.conv2(x)))\n",
        "        x = x.view(-1, 64 * 8 * 8)  # Flatten the tensor for the fully connected layer\n",
        "        x = self.tanh(self.fc1(x))\n",
        "        x = self.softmax(self.fc2(x))\n",
        "        return x"
      ],
      "metadata": {
        "id": "8KowPLaa4wHH"
      },
      "execution_count": null,
      "outputs": []
    },
    {
      "cell_type": "code",
      "source": [
        "#load models\n",
        "\n",
        "shadow_model0 = CNN()\n",
        "shadow_model1 = CNN()\n",
        "shadow_model2 = CNN()\n",
        "shadow_model3 = CNN()\n",
        "shadow_model4 = CNN()\n"
      ],
      "metadata": {
        "id": "alGP1yM44bk3"
      },
      "execution_count": null,
      "outputs": []
    },
    {
      "cell_type": "code",
      "source": [
        "shadow_model0.load_state_dict(torch.load('shadow_model0.pth'))\n",
        "shadow_model1.load_state_dict(torch.load('shadow_model1.pth'))\n",
        "shadow_model2.load_state_dict(torch.load('shadow_model2.pth'))\n",
        "shadow_model3.load_state_dict(torch.load('shadow_model3.pth'))\n",
        "shadow_model4.load_state_dict(torch.load('shadow_model4.pth'))"
      ],
      "metadata": {
        "colab": {
          "base_uri": "https://localhost:8080/"
        },
        "id": "QiRewWwf6pMK",
        "outputId": "64bc970d-bab9-475b-ec9f-a5b1e78bf2bb"
      },
      "execution_count": null,
      "outputs": [
        {
          "output_type": "stream",
          "name": "stderr",
          "text": [
            "<ipython-input-30-01cc54133076>:1: FutureWarning: You are using `torch.load` with `weights_only=False` (the current default value), which uses the default pickle module implicitly. It is possible to construct malicious pickle data which will execute arbitrary code during unpickling (See https://github.com/pytorch/pytorch/blob/main/SECURITY.md#untrusted-models for more details). In a future release, the default value for `weights_only` will be flipped to `True`. This limits the functions that could be executed during unpickling. Arbitrary objects will no longer be allowed to be loaded via this mode unless they are explicitly allowlisted by the user via `torch.serialization.add_safe_globals`. We recommend you start setting `weights_only=True` for any use case where you don't have full control of the loaded file. Please open an issue on GitHub for any issues related to this experimental feature.\n",
            "  shadow_model0.load_state_dict(torch.load('shadow_model0.pth'))\n",
            "<ipython-input-30-01cc54133076>:2: FutureWarning: You are using `torch.load` with `weights_only=False` (the current default value), which uses the default pickle module implicitly. It is possible to construct malicious pickle data which will execute arbitrary code during unpickling (See https://github.com/pytorch/pytorch/blob/main/SECURITY.md#untrusted-models for more details). In a future release, the default value for `weights_only` will be flipped to `True`. This limits the functions that could be executed during unpickling. Arbitrary objects will no longer be allowed to be loaded via this mode unless they are explicitly allowlisted by the user via `torch.serialization.add_safe_globals`. We recommend you start setting `weights_only=True` for any use case where you don't have full control of the loaded file. Please open an issue on GitHub for any issues related to this experimental feature.\n",
            "  shadow_model1.load_state_dict(torch.load('shadow_model1.pth'))\n",
            "<ipython-input-30-01cc54133076>:3: FutureWarning: You are using `torch.load` with `weights_only=False` (the current default value), which uses the default pickle module implicitly. It is possible to construct malicious pickle data which will execute arbitrary code during unpickling (See https://github.com/pytorch/pytorch/blob/main/SECURITY.md#untrusted-models for more details). In a future release, the default value for `weights_only` will be flipped to `True`. This limits the functions that could be executed during unpickling. Arbitrary objects will no longer be allowed to be loaded via this mode unless they are explicitly allowlisted by the user via `torch.serialization.add_safe_globals`. We recommend you start setting `weights_only=True` for any use case where you don't have full control of the loaded file. Please open an issue on GitHub for any issues related to this experimental feature.\n",
            "  shadow_model2.load_state_dict(torch.load('shadow_model2.pth'))\n",
            "<ipython-input-30-01cc54133076>:4: FutureWarning: You are using `torch.load` with `weights_only=False` (the current default value), which uses the default pickle module implicitly. It is possible to construct malicious pickle data which will execute arbitrary code during unpickling (See https://github.com/pytorch/pytorch/blob/main/SECURITY.md#untrusted-models for more details). In a future release, the default value for `weights_only` will be flipped to `True`. This limits the functions that could be executed during unpickling. Arbitrary objects will no longer be allowed to be loaded via this mode unless they are explicitly allowlisted by the user via `torch.serialization.add_safe_globals`. We recommend you start setting `weights_only=True` for any use case where you don't have full control of the loaded file. Please open an issue on GitHub for any issues related to this experimental feature.\n",
            "  shadow_model3.load_state_dict(torch.load('shadow_model3.pth'))\n",
            "<ipython-input-30-01cc54133076>:5: FutureWarning: You are using `torch.load` with `weights_only=False` (the current default value), which uses the default pickle module implicitly. It is possible to construct malicious pickle data which will execute arbitrary code during unpickling (See https://github.com/pytorch/pytorch/blob/main/SECURITY.md#untrusted-models for more details). In a future release, the default value for `weights_only` will be flipped to `True`. This limits the functions that could be executed during unpickling. Arbitrary objects will no longer be allowed to be loaded via this mode unless they are explicitly allowlisted by the user via `torch.serialization.add_safe_globals`. We recommend you start setting `weights_only=True` for any use case where you don't have full control of the loaded file. Please open an issue on GitHub for any issues related to this experimental feature.\n",
            "  shadow_model4.load_state_dict(torch.load('shadow_model4.pth'))\n"
          ]
        },
        {
          "output_type": "execute_result",
          "data": {
            "text/plain": [
              "<All keys matched successfully>"
            ]
          },
          "metadata": {},
          "execution_count": 30
        }
      ]
    },
    {
      "cell_type": "code",
      "source": [
        "shadow_models = [shadow_model0,shadow_model1, shadow_model2, shadow_model3, shadow_model4]"
      ],
      "metadata": {
        "id": "d0C75awi5pnM"
      },
      "execution_count": null,
      "outputs": []
    },
    {
      "cell_type": "code",
      "source": [
        "attack_data = []\n",
        "attack_labels = []\n",
        "resized_train_loaders =[]\n",
        "for i in range(5):\n",
        "  print(i)\n",
        "  train_loader_resized = DataLoader(dataset=shadow_datasets[i], batch_size=1, shuffle=True)\n",
        "  resized_train_loaders.append(train_loader_resized)\n",
        "  member_data, member_labels = generate_attack_data(shadow_models[i], train_loader_resized, member_label=1)\n",
        "  non_member_data, non_member_labels = generate_attack_data(shadow_models[i], test_data_loaders[i], member_label=0)\n",
        "  attack_data.extend(member_data+non_member_data)\n",
        "  attack_labels.extend(member_labels+non_member_labels)"
      ],
      "metadata": {
        "colab": {
          "base_uri": "https://localhost:8080/"
        },
        "id": "0wp2WerL4qLl",
        "outputId": "9ec06fff-8f89-4696-f526-0672934e234a"
      },
      "execution_count": null,
      "outputs": [
        {
          "output_type": "stream",
          "name": "stdout",
          "text": [
            "0\n",
            "1\n",
            "2\n",
            "3\n",
            "4\n"
          ]
        }
      ]
    },
    {
      "cell_type": "code",
      "source": [
        "import numpy as np\n",
        "from sklearn.model_selection import train_test_split\n",
        "from sklearn.linear_model import LogisticRegression\n",
        "from sklearn.metrics import precision_score, recall_score, f1_score\n",
        "\n",
        "# Assuming attack_data and attack_labels are already defined as lists\n",
        "# Convert attack_data to a NumPy array\n",
        "attack_data = np.array(attack_data).reshape(len(attack_data), -1)\n",
        "\n",
        "\n",
        "# Split the data into training and testing sets\n",
        "X_train, X_test, y_train, y_test = train_test_split(attack_data, attack_labels, test_size=0.2, random_state=42)\n",
        "\n",
        "# Train a logistic regression model\n",
        "\n",
        "\n",
        "print(\"Class distribution:\", np.bincount(y_train))"
      ],
      "metadata": {
        "colab": {
          "base_uri": "https://localhost:8080/"
        },
        "id": "7d98Srex6icW",
        "outputId": "696a63a7-6157-4eb2-a055-4317fbc9594d"
      },
      "execution_count": null,
      "outputs": [
        {
          "output_type": "stream",
          "name": "stdout",
          "text": [
            "Class distribution: [ 8023 39977]\n"
          ]
        }
      ]
    },
    {
      "cell_type": "code",
      "source": [
        "np.savez('train_data.npz', X=X_train, Y=y_train)"
      ],
      "metadata": {
        "id": "mOdF34NfFsxD"
      },
      "execution_count": null,
      "outputs": []
    },
    {
      "cell_type": "code",
      "source": [
        "from torchvision.datasets import CIFAR10\n",
        "\n",
        "transform = transforms.Compose([\n",
        "        transforms.ToTensor(),\n",
        "         transforms.Normalize((0.4914, 0.4822, 0.4465), (0.2023, 0.1994, 0.2010)),\n",
        "   ])\n",
        "target_train_data = CIFAR10(root='./data', train=True, transform=transform, download=True)"
      ],
      "metadata": {
        "colab": {
          "base_uri": "https://localhost:8080/"
        },
        "id": "4_xIYvFt_7YF",
        "outputId": "991417d9-9865-4a97-8dd9-9ea6ef8ac1de"
      },
      "execution_count": null,
      "outputs": [
        {
          "output_type": "stream",
          "name": "stdout",
          "text": [
            "Files already downloaded and verified\n"
          ]
        }
      ]
    },
    {
      "cell_type": "code",
      "source": [
        "target_model = CNN()\n",
        "target_model.load_state_dict(torch.load('target_model.pth'))"
      ],
      "metadata": {
        "colab": {
          "base_uri": "https://localhost:8080/"
        },
        "id": "qRrSwUWhA4NZ",
        "outputId": "e58817a5-f4ba-4e75-e7f8-0b81b9df43de"
      },
      "execution_count": null,
      "outputs": [
        {
          "output_type": "stream",
          "name": "stderr",
          "text": [
            "<ipython-input-36-e7345d752fdf>:2: FutureWarning: You are using `torch.load` with `weights_only=False` (the current default value), which uses the default pickle module implicitly. It is possible to construct malicious pickle data which will execute arbitrary code during unpickling (See https://github.com/pytorch/pytorch/blob/main/SECURITY.md#untrusted-models for more details). In a future release, the default value for `weights_only` will be flipped to `True`. This limits the functions that could be executed during unpickling. Arbitrary objects will no longer be allowed to be loaded via this mode unless they are explicitly allowlisted by the user via `torch.serialization.add_safe_globals`. We recommend you start setting `weights_only=True` for any use case where you don't have full control of the loaded file. Please open an issue on GitHub for any issues related to this experimental feature.\n",
            "  target_model.load_state_dict(torch.load('target_model.pth'))\n"
          ]
        },
        {
          "output_type": "execute_result",
          "data": {
            "text/plain": [
              "<All keys matched successfully>"
            ]
          },
          "metadata": {},
          "execution_count": 36
        }
      ]
    },
    {
      "cell_type": "code",
      "source": [
        "member_loader_resized = DataLoader(dataset=target_train_data, batch_size=1, shuffle=True)\n",
        "member_attack_data, member_attack_labels = generate_attack_data(target_model, member_loader_resized, member_label=1)\n",
        "non_member_data0, non_member_labels0 = generate_attack_data(shadow_models[0], test_data_loaders[0], member_label=0)\n",
        "non_member_data1, non_member_labels1 = generate_attack_data(shadow_models[1], test_data_loaders[1], member_label=0)\n",
        "non_member_data2, non_member_labels2 = generate_attack_data(shadow_models[2], test_data_loaders[2], member_label=0)\n",
        "non_member_data3, non_member_labels3 = generate_attack_data(shadow_models[3], test_data_loaders[3], member_label=0)\n",
        "non_member_data4, non_member_labels4 = generate_attack_data(shadow_models[4], test_data_loaders[4], member_label=0)\n",
        "\n",
        "attack_data = []\n",
        "attack_labels = []\n",
        "attack_data.extend(member_attack_data+non_member_data0+non_member_data1+non_member_data2+non_member_data3+non_member_data4)\n",
        "attack_labels.extend(member_attack_labels+non_member_labels0+non_member_labels1+non_member_labels2+non_member_labels3+non_member_labels4)\n",
        "\n",
        "attack_data = np.array(attack_data).reshape(len(attack_data), -1)\n",
        "y_test = np.array(attack_labels)\n",
        "\n",
        "np.save('attack_test.npy', attack_data)\n",
        "np.save('attack_test_label.npy', y_test)"
      ],
      "metadata": {
        "id": "a6y3F9Vr8iTy"
      },
      "execution_count": null,
      "outputs": []
    }
  ]
}